{
 "cells": [
  {
   "cell_type": "code",
   "execution_count": 3,
   "metadata": {},
   "outputs": [],
   "source": [
    "import os\n",
    "import torch\n",
    "from torchtext.data.utils import get_tokenizer\n",
    "\n",
    "DATA_DIR = './data/'"
   ]
  },
  {
   "cell_type": "markdown",
   "metadata": {},
   "source": [
    "# Tokenize datasets"
   ]
  },
  {
   "cell_type": "code",
   "execution_count": 10,
   "metadata": {},
   "outputs": [
    {
     "name": "stdout",
     "output_type": "stream",
     "text": [
      "Loading existing tokens for train (./data/words.train.pt)\n",
      "Loading existing tokens for val (./data/words.val.pt)\n",
      "Loading existing tokens for test (./data/words.test.pt)\n"
     ]
    }
   ],
   "source": [
    "TOKENIZER_EN = get_tokenizer('basic_english')\n",
    "\n",
    "def create_tokens(\n",
    "    dataset: str\n",
    "):\n",
    "    \"\"\"\n",
    "    Create word tokens for the given dataset.  \n",
    "\n",
    "    Datasets are defines as subdirectories of `data/input`. (Currently `train`, `val` and `test`)\n",
    "    \"\"\"\n",
    "\n",
    "    outFileName = os.path.join(DATA_DIR, f'words.{dataset}.pt')\n",
    "    \n",
    "    # If the file exists, don't create it again.\n",
    "    if os.path.isfile(outFileName):\n",
    "        print(f\"Loading existing tokens for {dataset} ({outFileName})\")\n",
    "        return torch.load(outFileName)\n",
    "    \n",
    "    # Scan for all input files\n",
    "    inDirectoryName = os.path.join(DATA_DIR, 'input', dataset)\n",
    "    inFileNames = [os.path.join(inDirectoryName, f) for f in os.listdir(inDirectoryName)]\n",
    "\n",
    "    # Read all the lines from all the files\n",
    "    lines = []\n",
    "    for inFileName in inFileNames:\n",
    "        with open(inFileName, 'r') as file:\n",
    "            lines += file.readlines()\n",
    "\n",
    "    # Tokenize all the lines\n",
    "    tokens = [TOKENIZER_EN(line) for line in lines]\n",
    "\n",
    "    # Save tokens so we dont have to do this again\n",
    "    torch.save(tokens, outFileName)\n",
    "\n",
    "    print(f\"Creates tokens for {dataset} ({outFileName})\")\n",
    "    \n",
    "    return tokens\n",
    "\n",
    "WORDS_TRAIN = create_tokens('train')\n",
    "WORDS_VAL = create_tokens('val')\n",
    "WORDS_TEST = create_tokens('test')"
   ]
  }
 ],
 "metadata": {
  "kernelspec": {
   "display_name": "Python 3",
   "language": "python",
   "name": "python3"
  },
  "language_info": {
   "codemirror_mode": {
    "name": "ipython",
    "version": 3
   },
   "file_extension": ".py",
   "mimetype": "text/x-python",
   "name": "python",
   "nbconvert_exporter": "python",
   "pygments_lexer": "ipython3",
   "version": "3.12.2"
  }
 },
 "nbformat": 4,
 "nbformat_minor": 2
}
